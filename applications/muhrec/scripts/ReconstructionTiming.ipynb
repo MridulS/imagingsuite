{
 "cells": [
  {
   "cell_type": "markdown",
   "metadata": {},
   "source": [
    "# Timing statistics"
   ]
  },
  {
   "cell_type": "code",
   "execution_count": 97,
   "metadata": {},
   "outputs": [],
   "source": [
    "import numpy as np\n",
    "import matplotlib.pyplot as plt\n",
    "import pandas as pd\n",
    "\n",
    "plt.style.use('ggplot')"
   ]
  },
  {
   "cell_type": "code",
   "execution_count": 90,
   "metadata": {},
   "outputs": [
    {
     "data": {
      "text/html": [
       "<div>\n",
       "<style scoped>\n",
       "    .dataframe tbody tr th:only-of-type {\n",
       "        vertical-align: middle;\n",
       "    }\n",
       "\n",
       "    .dataframe tbody tr th {\n",
       "        vertical-align: top;\n",
       "    }\n",
       "\n",
       "    .dataframe thead th {\n",
       "        text-align: right;\n",
       "    }\n",
       "</style>\n",
       "<table border=\"1\" class=\"dataframe\">\n",
       "  <thead>\n",
       "    <tr style=\"text-align: right;\">\n",
       "      <th></th>\n",
       "      <th>data</th>\n",
       "      <th>timing</th>\n",
       "    </tr>\n",
       "  </thead>\n",
       "  <tbody>\n",
       "    <tr>\n",
       "      <th>2021-01-28 07:42:51</th>\n",
       "      <td>{'projections': 256, 'sizeu': 256, 'sizev': 25...</td>\n",
       "      <td>{'FullLogNorm': 13.3639, 'MorphSpotClean': 646...</td>\n",
       "    </tr>\n",
       "    <tr>\n",
       "      <th>2021-01-28 07:43:14</th>\n",
       "      <td>{'projections': 256, 'sizeu': 256, 'sizev': 25...</td>\n",
       "      <td>{'FullLogNorm': 15.4258, 'MorphSpotClean': 749...</td>\n",
       "    </tr>\n",
       "    <tr>\n",
       "      <th>2021-01-28 07:43:37</th>\n",
       "      <td>{'projections': 256, 'sizeu': 256, 'sizev': 25...</td>\n",
       "      <td>{'FullLogNorm': 14.28, 'MorphSpotClean': 770.8...</td>\n",
       "    </tr>\n",
       "    <tr>\n",
       "      <th>2021-01-28 07:44:00</th>\n",
       "      <td>{'projections': 256, 'sizeu': 256, 'sizev': 25...</td>\n",
       "      <td>{'FullLogNorm': 15.6156, 'MorphSpotClean': 834...</td>\n",
       "    </tr>\n",
       "    <tr>\n",
       "      <th>2021-01-28 07:44:22</th>\n",
       "      <td>{'projections': 256, 'sizeu': 256, 'sizev': 25...</td>\n",
       "      <td>{'FullLogNorm': 13.3923, 'MorphSpotClean': 705...</td>\n",
       "    </tr>\n",
       "  </tbody>\n",
       "</table>\n",
       "</div>"
      ],
      "text/plain": [
       "                                                                  data  \\\n",
       "2021-01-28 07:42:51  {'projections': 256, 'sizeu': 256, 'sizev': 25...   \n",
       "2021-01-28 07:43:14  {'projections': 256, 'sizeu': 256, 'sizev': 25...   \n",
       "2021-01-28 07:43:37  {'projections': 256, 'sizeu': 256, 'sizev': 25...   \n",
       "2021-01-28 07:44:00  {'projections': 256, 'sizeu': 256, 'sizev': 25...   \n",
       "2021-01-28 07:44:22  {'projections': 256, 'sizeu': 256, 'sizev': 25...   \n",
       "\n",
       "                                                                timing  \n",
       "2021-01-28 07:42:51  {'FullLogNorm': 13.3639, 'MorphSpotClean': 646...  \n",
       "2021-01-28 07:43:14  {'FullLogNorm': 15.4258, 'MorphSpotClean': 749...  \n",
       "2021-01-28 07:43:37  {'FullLogNorm': 14.28, 'MorphSpotClean': 770.8...  \n",
       "2021-01-28 07:44:00  {'FullLogNorm': 15.6156, 'MorphSpotClean': 834...  \n",
       "2021-01-28 07:44:22  {'FullLogNorm': 13.3923, 'MorphSpotClean': 705...  "
      ]
     },
     "execution_count": 90,
     "metadata": {},
     "output_type": "execute_result"
    }
   ],
   "source": [
    "table = pd.read_json(\"recontiming128-1024.json\", orient=\"index\")\n",
    "table.head()"
   ]
  },
  {
   "cell_type": "code",
   "execution_count": 106,
   "metadata": {},
   "outputs": [
    {
     "name": "stderr",
     "output_type": "stream",
     "text": [
      "C:\\Users\\ander\\anaconda3\\lib\\site-packages\\ipykernel_launcher.py:9: SettingWithCopyWarning: \n",
      "A value is trying to be set on a copy of a slice from a DataFrame\n",
      "\n",
      "See the caveats in the documentation: https://pandas.pydata.org/pandas-docs/stable/user_guide/indexing.html#returning-a-view-versus-a-copy\n",
      "  if __name__ == '__main__':\n",
      "C:\\Users\\ander\\anaconda3\\lib\\site-packages\\ipykernel_launcher.py:15: SettingWithCopyWarning: \n",
      "A value is trying to be set on a copy of a slice from a DataFrame\n",
      "\n",
      "See the caveats in the documentation: https://pandas.pydata.org/pandas-docs/stable/user_guide/indexing.html#returning-a-view-versus-a-copy\n",
      "  from ipykernel import kernelapp as app\n",
      "C:\\Users\\ander\\anaconda3\\lib\\site-packages\\ipykernel_launcher.py:16: SettingWithCopyWarning: \n",
      "A value is trying to be set on a copy of a slice from a DataFrame\n",
      "\n",
      "See the caveats in the documentation: https://pandas.pydata.org/pandas-docs/stable/user_guide/indexing.html#returning-a-view-versus-a-copy\n",
      "  app.launch_new_instance()\n",
      "C:\\Users\\ander\\anaconda3\\lib\\site-packages\\ipykernel_launcher.py:17: SettingWithCopyWarning: \n",
      "A value is trying to be set on a copy of a slice from a DataFrame\n",
      "\n",
      "See the caveats in the documentation: https://pandas.pydata.org/pandas-docs/stable/user_guide/indexing.html#returning-a-view-versus-a-copy\n",
      "C:\\Users\\ander\\anaconda3\\lib\\site-packages\\ipykernel_launcher.py:18: SettingWithCopyWarning: \n",
      "A value is trying to be set on a copy of a slice from a DataFrame\n",
      "\n",
      "See the caveats in the documentation: https://pandas.pydata.org/pandas-docs/stable/user_guide/indexing.html#returning-a-view-versus-a-copy\n"
     ]
    }
   ],
   "source": [
    "table['Total time']=np.nan\n",
    "table['Time/slice']=np.nan\n",
    "table['size']=np.nan\n",
    "table['Total GUPS']=np.nan\n",
    "table['GUPS/slice']=np.nan\n",
    "\n",
    "\n",
    "for ind in table.index: \n",
    "    table['Total time'][ind] = table['timing'][ind]['total'] \n",
    "    datadict = table['data'][ind] \n",
    "    sum=1\n",
    "    for key in datadict :\n",
    "        sum = sum * datadict[key]\n",
    "\n",
    "    table['size'][ind]       = datadict['sizeu']  \n",
    "    table['Time/slice'][ind] = table['Total time'][ind]/datadict['sizeu'] \n",
    "    table['Total GUPS'][ind] = sum/table['Total time'][ind]/1e9\n",
    "    table['GUPS/slice'][ind] = table['Total GUPS'][ind]/datadict['sizez']**2\n",
    "        "
   ]
  },
  {
   "cell_type": "code",
   "execution_count": 107,
   "metadata": {},
   "outputs": [
    {
     "data": {
      "text/html": [
       "<div>\n",
       "<style scoped>\n",
       "    .dataframe tbody tr th:only-of-type {\n",
       "        vertical-align: middle;\n",
       "    }\n",
       "\n",
       "    .dataframe tbody tr th {\n",
       "        vertical-align: top;\n",
       "    }\n",
       "\n",
       "    .dataframe thead th {\n",
       "        text-align: right;\n",
       "    }\n",
       "</style>\n",
       "<table border=\"1\" class=\"dataframe\">\n",
       "  <thead>\n",
       "    <tr style=\"text-align: right;\">\n",
       "      <th></th>\n",
       "      <th>data</th>\n",
       "      <th>timing</th>\n",
       "      <th>Total time</th>\n",
       "      <th>Time/slice</th>\n",
       "      <th>size</th>\n",
       "      <th>Total GUPS</th>\n",
       "      <th>GUPS/slice</th>\n",
       "    </tr>\n",
       "  </thead>\n",
       "  <tbody>\n",
       "    <tr>\n",
       "      <th>2021-01-28 07:42:51</th>\n",
       "      <td>{'projections': 256, 'sizeu': 256, 'sizev': 25...</td>\n",
       "      <td>{'FullLogNorm': 13.3639, 'MorphSpotClean': 646...</td>\n",
       "      <td>29585.0</td>\n",
       "      <td>115.566406</td>\n",
       "      <td>256.0</td>\n",
       "      <td>9.514111</td>\n",
       "      <td>0.000145</td>\n",
       "    </tr>\n",
       "    <tr>\n",
       "      <th>2021-01-28 07:43:14</th>\n",
       "      <td>{'projections': 256, 'sizeu': 256, 'sizev': 25...</td>\n",
       "      <td>{'FullLogNorm': 15.4258, 'MorphSpotClean': 749...</td>\n",
       "      <td>22849.2</td>\n",
       "      <td>89.254688</td>\n",
       "      <td>256.0</td>\n",
       "      <td>12.318811</td>\n",
       "      <td>0.000188</td>\n",
       "    </tr>\n",
       "    <tr>\n",
       "      <th>2021-01-28 07:43:37</th>\n",
       "      <td>{'projections': 256, 'sizeu': 256, 'sizev': 25...</td>\n",
       "      <td>{'FullLogNorm': 14.28, 'MorphSpotClean': 770.8...</td>\n",
       "      <td>22758.3</td>\n",
       "      <td>88.899609</td>\n",
       "      <td>256.0</td>\n",
       "      <td>12.368014</td>\n",
       "      <td>0.000189</td>\n",
       "    </tr>\n",
       "    <tr>\n",
       "      <th>2021-01-28 07:44:00</th>\n",
       "      <td>{'projections': 256, 'sizeu': 256, 'sizev': 25...</td>\n",
       "      <td>{'FullLogNorm': 15.6156, 'MorphSpotClean': 834...</td>\n",
       "      <td>22875.3</td>\n",
       "      <td>89.356641</td>\n",
       "      <td>256.0</td>\n",
       "      <td>12.304756</td>\n",
       "      <td>0.000188</td>\n",
       "    </tr>\n",
       "    <tr>\n",
       "      <th>2021-01-28 07:44:22</th>\n",
       "      <td>{'projections': 256, 'sizeu': 256, 'sizev': 25...</td>\n",
       "      <td>{'FullLogNorm': 13.3923, 'MorphSpotClean': 705...</td>\n",
       "      <td>22650.2</td>\n",
       "      <td>88.477344</td>\n",
       "      <td>256.0</td>\n",
       "      <td>12.427042</td>\n",
       "      <td>0.000190</td>\n",
       "    </tr>\n",
       "  </tbody>\n",
       "</table>\n",
       "</div>"
      ],
      "text/plain": [
       "                                                                  data  \\\n",
       "2021-01-28 07:42:51  {'projections': 256, 'sizeu': 256, 'sizev': 25...   \n",
       "2021-01-28 07:43:14  {'projections': 256, 'sizeu': 256, 'sizev': 25...   \n",
       "2021-01-28 07:43:37  {'projections': 256, 'sizeu': 256, 'sizev': 25...   \n",
       "2021-01-28 07:44:00  {'projections': 256, 'sizeu': 256, 'sizev': 25...   \n",
       "2021-01-28 07:44:22  {'projections': 256, 'sizeu': 256, 'sizev': 25...   \n",
       "\n",
       "                                                                timing  \\\n",
       "2021-01-28 07:42:51  {'FullLogNorm': 13.3639, 'MorphSpotClean': 646...   \n",
       "2021-01-28 07:43:14  {'FullLogNorm': 15.4258, 'MorphSpotClean': 749...   \n",
       "2021-01-28 07:43:37  {'FullLogNorm': 14.28, 'MorphSpotClean': 770.8...   \n",
       "2021-01-28 07:44:00  {'FullLogNorm': 15.6156, 'MorphSpotClean': 834...   \n",
       "2021-01-28 07:44:22  {'FullLogNorm': 13.3923, 'MorphSpotClean': 705...   \n",
       "\n",
       "                     Total time  Time/slice   size  Total GUPS  GUPS/slice  \n",
       "2021-01-28 07:42:51     29585.0  115.566406  256.0    9.514111    0.000145  \n",
       "2021-01-28 07:43:14     22849.2   89.254688  256.0   12.318811    0.000188  \n",
       "2021-01-28 07:43:37     22758.3   88.899609  256.0   12.368014    0.000189  \n",
       "2021-01-28 07:44:00     22875.3   89.356641  256.0   12.304756    0.000188  \n",
       "2021-01-28 07:44:22     22650.2   88.477344  256.0   12.427042    0.000190  "
      ]
     },
     "execution_count": 107,
     "metadata": {},
     "output_type": "execute_result"
    }
   ],
   "source": [
    "table.head()"
   ]
  },
  {
   "cell_type": "code",
   "execution_count": 108,
   "metadata": {},
   "outputs": [],
   "source": [
    "sizes = []\n",
    "avgTotalTime = []\n",
    "stdTotalTime = []\n",
    "avgSliceTime = []\n",
    "stdSliceTime = []\n",
    "avgGUPS = []\n",
    "\n",
    "scale = 1000\n",
    "for s in table['size'].unique() :\n",
    "    sizes.append(s)\n",
    "    avgTotalTime.append(table[table['size']==s]['Total time'].mean()/scale)\n",
    "    stdTotalTime.append(table[table['size']==s]['Total time'].std()/scale)\n",
    "    avgSliceTime.append(table[table['size']==s]['Time/slice'].mean()/scale)\n",
    "    stdSliceTime.append(table[table['size']==s]['Time/slice'].std()/scale)\n",
    "    avgGUPS.append(table[table['size']==s]['Total GUPS'].mean())\n",
    "\n",
    "data = {'size': sizes, \n",
    "        'Total time': avgTotalTime, \n",
    "        'std Total time': stdTotalTime, \n",
    "        'Time/slice': avgSliceTime, \n",
    "        'std Time/slice': stdSliceTime,\n",
    "       'GUPS': avgGUPS}\n",
    "\n",
    "timings = pd.DataFrame.from_dict(data).sort_values('size')"
   ]
  },
  {
   "cell_type": "code",
   "execution_count": 109,
   "metadata": {},
   "outputs": [
    {
     "data": {
      "text/html": [
       "<div>\n",
       "<style scoped>\n",
       "    .dataframe tbody tr th:only-of-type {\n",
       "        vertical-align: middle;\n",
       "    }\n",
       "\n",
       "    .dataframe tbody tr th {\n",
       "        vertical-align: top;\n",
       "    }\n",
       "\n",
       "    .dataframe thead th {\n",
       "        text-align: right;\n",
       "    }\n",
       "</style>\n",
       "<table border=\"1\" class=\"dataframe\">\n",
       "  <thead>\n",
       "    <tr style=\"text-align: right;\">\n",
       "      <th></th>\n",
       "      <th>size</th>\n",
       "      <th>Total time</th>\n",
       "      <th>std Total time</th>\n",
       "      <th>Time/slice</th>\n",
       "      <th>std Time/slice</th>\n",
       "      <th>GUPS</th>\n",
       "    </tr>\n",
       "  </thead>\n",
       "  <tbody>\n",
       "    <tr>\n",
       "      <th>1</th>\n",
       "      <td>128.0</td>\n",
       "      <td>7.355198</td>\n",
       "      <td>0.151263</td>\n",
       "      <td>0.057462</td>\n",
       "      <td>0.001182</td>\n",
       "      <td>0.598168</td>\n",
       "    </tr>\n",
       "    <tr>\n",
       "      <th>0</th>\n",
       "      <td>256.0</td>\n",
       "      <td>23.413110</td>\n",
       "      <td>2.170190</td>\n",
       "      <td>0.091457</td>\n",
       "      <td>0.008477</td>\n",
       "      <td>12.097935</td>\n",
       "    </tr>\n",
       "    <tr>\n",
       "      <th>2</th>\n",
       "      <td>384.0</td>\n",
       "      <td>52.600370</td>\n",
       "      <td>0.277105</td>\n",
       "      <td>0.136980</td>\n",
       "      <td>0.000722</td>\n",
       "      <td>60.955011</td>\n",
       "    </tr>\n",
       "    <tr>\n",
       "      <th>3</th>\n",
       "      <td>512.0</td>\n",
       "      <td>102.467200</td>\n",
       "      <td>0.478118</td>\n",
       "      <td>0.200131</td>\n",
       "      <td>0.000934</td>\n",
       "      <td>175.809915</td>\n",
       "    </tr>\n",
       "    <tr>\n",
       "      <th>4</th>\n",
       "      <td>768.0</td>\n",
       "      <td>292.040600</td>\n",
       "      <td>1.068126</td>\n",
       "      <td>0.380261</td>\n",
       "      <td>0.001391</td>\n",
       "      <td>702.634238</td>\n",
       "    </tr>\n",
       "    <tr>\n",
       "      <th>5</th>\n",
       "      <td>1024.0</td>\n",
       "      <td>645.552667</td>\n",
       "      <td>4.235750</td>\n",
       "      <td>0.630423</td>\n",
       "      <td>0.004136</td>\n",
       "      <td>1785.996360</td>\n",
       "    </tr>\n",
       "  </tbody>\n",
       "</table>\n",
       "</div>"
      ],
      "text/plain": [
       "     size  Total time  std Total time  Time/slice  std Time/slice         GUPS\n",
       "1   128.0    7.355198        0.151263    0.057462        0.001182     0.598168\n",
       "0   256.0   23.413110        2.170190    0.091457        0.008477    12.097935\n",
       "2   384.0   52.600370        0.277105    0.136980        0.000722    60.955011\n",
       "3   512.0  102.467200        0.478118    0.200131        0.000934   175.809915\n",
       "4   768.0  292.040600        1.068126    0.380261        0.001391   702.634238\n",
       "5  1024.0  645.552667        4.235750    0.630423        0.004136  1785.996360"
      ]
     },
     "execution_count": 109,
     "metadata": {},
     "output_type": "execute_result"
    }
   ],
   "source": [
    "timings"
   ]
  },
  {
   "cell_type": "code",
   "execution_count": 110,
   "metadata": {},
   "outputs": [
    {
     "data": {
      "image/png": "[encoded data removed]",
      "text/plain": [
       "<Figure size 360x288 with 1 Axes>"
      ]
     },
     "metadata": {},
     "output_type": "display_data"
    }
   ],
   "source": [
    "plt.figure(figsize=(5,4))\n",
    "plt.plot(timings['size'],timings['Total time'])\n",
    "plt.plot(timings['size'],timings['Total time'],'o')\n",
    "plt.xlabel('Data size')\n",
    "plt.ylabel('time (s)')\n",
    "plt.title('Total reconstruction time');\n",
    "plt.tight_layout()\n",
    "plt.savefig('totaltime.svg')\n",
    "plt.savefig('totaltime.png',dpi=300)"
   ]
  },
  {
   "cell_type": "code",
   "execution_count": 111,
   "metadata": {},
   "outputs": [
    {
     "data": {
      "image/png": "[encoded data removed]",
      "text/plain": [
       "<Figure size 360x288 with 1 Axes>"
      ]
     },
     "metadata": {},
     "output_type": "display_data"
    }
   ],
   "source": [
    "plt.figure(figsize=(5,4))\n",
    "plt.plot(timings['size'],timings['Time/slice'])\n",
    "plt.plot(timings['size'],timings['Time/slice'],'o')\n",
    "plt.xlabel('Data size')\n",
    "plt.ylabel('time (s)')\n",
    "plt.title('Reconstruction time per slice');\n",
    "plt.tight_layout()\n",
    "plt.savefig('timeperslice.svg')\n",
    "plt.savefig('timeperslice.png',dpi=300)"
   ]
  },
  {
   "cell_type": "code",
   "execution_count": 112,
   "metadata": {},
   "outputs": [
    {
     "data": {
      "image/png": "[encoded data removed]",
      "text/plain": [
       "<Figure size 360x288 with 1 Axes>"
      ]
     },
     "metadata": {},
     "output_type": "display_data"
    }
   ],
   "source": [
    "plt.figure(figsize=(5,4))\n",
    "plt.plot(timings['size'],timings['Time/slice'])\n",
    "plt.plot(timings['size'],timings['Time/slice'],'o')\n",
    "plt.xlabel('Data size')\n",
    "plt.ylabel('time (s)')\n",
    "plt.title('Reconstruction time per slice');\n",
    "plt.tight_layout()\n",
    "plt.savefig('timeperslice.svg')\n",
    "plt.savefig('timeperslice.png',dpi=300)"
   ]
  },
  {
   "cell_type": "code",
   "execution_count": 113,
   "metadata": {},
   "outputs": [
    {
     "data": {
      "image/png": "[encoded data removed]",
      "text/plain": [
       "<Figure size 360x288 with 1 Axes>"
      ]
     },
     "metadata": {},
     "output_type": "display_data"
    }
   ],
   "source": [
    "plt.figure(figsize=(5,4))\n",
    "plt.plot(timings['size'],timings['GUPS'])\n",
    "plt.plot(timings['size'],timings['GUPS'],'o')\n",
    "plt.xlabel('Data size')\n",
    "plt.ylabel('GUPS')\n",
    "plt.title('Update rate');\n",
    "plt.tight_layout()\n",
    "plt.savefig('GUPS.svg')\n",
    "plt.savefig('GUPS.png',dpi=300)"
   ]
  },
  {
   "cell_type": "code",
   "execution_count": null,
   "metadata": {},
   "outputs": [],
   "source": []
  }
 ],
 "metadata": {
  "kernelspec": {
   "display_name": "Python 3",
   "language": "python",
   "name": "python3"
  },
  "language_info": {
   "codemirror_mode": {
    "name": "ipython",
    "version": 3
   },
   "file_extension": ".py",
   "mimetype": "text/x-python",
   "name": "python",
   "nbconvert_exporter": "python",
   "pygments_lexer": "ipython3",
   "version": "3.7.6"
  }
 },
 "nbformat": 4,
 "nbformat_minor": 4
}
