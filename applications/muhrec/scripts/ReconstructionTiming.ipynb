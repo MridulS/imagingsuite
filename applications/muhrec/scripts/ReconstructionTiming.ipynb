{
 "cells": [
  {
   "cell_type": "markdown",
   "metadata": {},
   "source": [
    "# Timing statistics"
   ]
  },
  {
   "cell_type": "code",
   "execution_count": 11,
   "metadata": {},
   "outputs": [],
   "source": [
    "import numpy as np\n",
    "import matplotlib.pyplot as plt\n",
    "import pandas as pd\n",
    "\n",
    "plt.style.use('ggplot')"
   ]
  },
  {
   "cell_type": "code",
   "execution_count": 12,
   "metadata": {},
   "outputs": [
    {
     "ename": "ValueError",
     "evalue": "Expected object or value",
     "output_type": "error",
     "traceback": [
      "\u001b[1;31m---------------------------------------------------------------------------\u001b[0m",
      "\u001b[1;31mValueError\u001b[0m                                Traceback (most recent call last)",
      "\u001b[1;32m<ipython-input-12-163e0fc7da24>\u001b[0m in \u001b[0;36m<module>\u001b[1;34m\u001b[0m\n\u001b[1;32m----> 1\u001b[1;33m \u001b[0mtable\u001b[0m \u001b[1;33m=\u001b[0m \u001b[0mpd\u001b[0m\u001b[1;33m.\u001b[0m\u001b[0mread_json\u001b[0m\u001b[1;33m(\u001b[0m\u001b[1;34m\"recontiming128-1024.json\"\u001b[0m\u001b[1;33m,\u001b[0m \u001b[0morient\u001b[0m\u001b[1;33m=\u001b[0m\u001b[1;34m\"index\"\u001b[0m\u001b[1;33m)\u001b[0m\u001b[1;33m\u001b[0m\u001b[1;33m\u001b[0m\u001b[0m\n\u001b[0m\u001b[0;32m      2\u001b[0m \u001b[0mtable\u001b[0m\u001b[1;33m.\u001b[0m\u001b[0mhead\u001b[0m\u001b[1;33m(\u001b[0m\u001b[1;33m)\u001b[0m\u001b[1;33m\u001b[0m\u001b[1;33m\u001b[0m\u001b[0m\n",
      "\u001b[1;32m~\\anaconda3\\lib\\site-packages\\pandas\\util\\_decorators.py\u001b[0m in \u001b[0;36mwrapper\u001b[1;34m(*args, **kwargs)\u001b[0m\n\u001b[0;32m    212\u001b[0m                 \u001b[1;32melse\u001b[0m\u001b[1;33m:\u001b[0m\u001b[1;33m\u001b[0m\u001b[1;33m\u001b[0m\u001b[0m\n\u001b[0;32m    213\u001b[0m                     \u001b[0mkwargs\u001b[0m\u001b[1;33m[\u001b[0m\u001b[0mnew_arg_name\u001b[0m\u001b[1;33m]\u001b[0m \u001b[1;33m=\u001b[0m \u001b[0mnew_arg_value\u001b[0m\u001b[1;33m\u001b[0m\u001b[1;33m\u001b[0m\u001b[0m\n\u001b[1;32m--> 214\u001b[1;33m             \u001b[1;32mreturn\u001b[0m \u001b[0mfunc\u001b[0m\u001b[1;33m(\u001b[0m\u001b[1;33m*\u001b[0m\u001b[0margs\u001b[0m\u001b[1;33m,\u001b[0m \u001b[1;33m**\u001b[0m\u001b[0mkwargs\u001b[0m\u001b[1;33m)\u001b[0m\u001b[1;33m\u001b[0m\u001b[1;33m\u001b[0m\u001b[0m\n\u001b[0m\u001b[0;32m    215\u001b[0m \u001b[1;33m\u001b[0m\u001b[0m\n\u001b[0;32m    216\u001b[0m         \u001b[1;32mreturn\u001b[0m \u001b[0mcast\u001b[0m\u001b[1;33m(\u001b[0m\u001b[0mF\u001b[0m\u001b[1;33m,\u001b[0m \u001b[0mwrapper\u001b[0m\u001b[1;33m)\u001b[0m\u001b[1;33m\u001b[0m\u001b[1;33m\u001b[0m\u001b[0m\n",
      "\u001b[1;32m~\\anaconda3\\lib\\site-packages\\pandas\\io\\json\\_json.py\u001b[0m in \u001b[0;36mread_json\u001b[1;34m(path_or_buf, orient, typ, dtype, convert_axes, convert_dates, keep_default_dates, numpy, precise_float, date_unit, encoding, lines, chunksize, compression)\u001b[0m\n\u001b[0;32m    606\u001b[0m         \u001b[1;32mreturn\u001b[0m \u001b[0mjson_reader\u001b[0m\u001b[1;33m\u001b[0m\u001b[1;33m\u001b[0m\u001b[0m\n\u001b[0;32m    607\u001b[0m \u001b[1;33m\u001b[0m\u001b[0m\n\u001b[1;32m--> 608\u001b[1;33m     \u001b[0mresult\u001b[0m \u001b[1;33m=\u001b[0m \u001b[0mjson_reader\u001b[0m\u001b[1;33m.\u001b[0m\u001b[0mread\u001b[0m\u001b[1;33m(\u001b[0m\u001b[1;33m)\u001b[0m\u001b[1;33m\u001b[0m\u001b[1;33m\u001b[0m\u001b[0m\n\u001b[0m\u001b[0;32m    609\u001b[0m     \u001b[1;32mif\u001b[0m \u001b[0mshould_close\u001b[0m\u001b[1;33m:\u001b[0m\u001b[1;33m\u001b[0m\u001b[1;33m\u001b[0m\u001b[0m\n\u001b[0;32m    610\u001b[0m         \u001b[0mfilepath_or_buffer\u001b[0m\u001b[1;33m.\u001b[0m\u001b[0mclose\u001b[0m\u001b[1;33m(\u001b[0m\u001b[1;33m)\u001b[0m\u001b[1;33m\u001b[0m\u001b[1;33m\u001b[0m\u001b[0m\n",
      "\u001b[1;32m~\\anaconda3\\lib\\site-packages\\pandas\\io\\json\\_json.py\u001b[0m in \u001b[0;36mread\u001b[1;34m(self)\u001b[0m\n\u001b[0;32m    729\u001b[0m             \u001b[0mobj\u001b[0m \u001b[1;33m=\u001b[0m \u001b[0mself\u001b[0m\u001b[1;33m.\u001b[0m\u001b[0m_get_object_parser\u001b[0m\u001b[1;33m(\u001b[0m\u001b[0mself\u001b[0m\u001b[1;33m.\u001b[0m\u001b[0m_combine_lines\u001b[0m\u001b[1;33m(\u001b[0m\u001b[0mdata\u001b[0m\u001b[1;33m.\u001b[0m\u001b[0msplit\u001b[0m\u001b[1;33m(\u001b[0m\u001b[1;34m\"\\n\"\u001b[0m\u001b[1;33m)\u001b[0m\u001b[1;33m)\u001b[0m\u001b[1;33m)\u001b[0m\u001b[1;33m\u001b[0m\u001b[1;33m\u001b[0m\u001b[0m\n\u001b[0;32m    730\u001b[0m         \u001b[1;32melse\u001b[0m\u001b[1;33m:\u001b[0m\u001b[1;33m\u001b[0m\u001b[1;33m\u001b[0m\u001b[0m\n\u001b[1;32m--> 731\u001b[1;33m             \u001b[0mobj\u001b[0m \u001b[1;33m=\u001b[0m \u001b[0mself\u001b[0m\u001b[1;33m.\u001b[0m\u001b[0m_get_object_parser\u001b[0m\u001b[1;33m(\u001b[0m\u001b[0mself\u001b[0m\u001b[1;33m.\u001b[0m\u001b[0mdata\u001b[0m\u001b[1;33m)\u001b[0m\u001b[1;33m\u001b[0m\u001b[1;33m\u001b[0m\u001b[0m\n\u001b[0m\u001b[0;32m    732\u001b[0m         \u001b[0mself\u001b[0m\u001b[1;33m.\u001b[0m\u001b[0mclose\u001b[0m\u001b[1;33m(\u001b[0m\u001b[1;33m)\u001b[0m\u001b[1;33m\u001b[0m\u001b[1;33m\u001b[0m\u001b[0m\n\u001b[0;32m    733\u001b[0m         \u001b[1;32mreturn\u001b[0m \u001b[0mobj\u001b[0m\u001b[1;33m\u001b[0m\u001b[1;33m\u001b[0m\u001b[0m\n",
      "\u001b[1;32m~\\anaconda3\\lib\\site-packages\\pandas\\io\\json\\_json.py\u001b[0m in \u001b[0;36m_get_object_parser\u001b[1;34m(self, json)\u001b[0m\n\u001b[0;32m    751\u001b[0m         \u001b[0mobj\u001b[0m \u001b[1;33m=\u001b[0m \u001b[1;32mNone\u001b[0m\u001b[1;33m\u001b[0m\u001b[1;33m\u001b[0m\u001b[0m\n\u001b[0;32m    752\u001b[0m         \u001b[1;32mif\u001b[0m \u001b[0mtyp\u001b[0m \u001b[1;33m==\u001b[0m \u001b[1;34m\"frame\"\u001b[0m\u001b[1;33m:\u001b[0m\u001b[1;33m\u001b[0m\u001b[1;33m\u001b[0m\u001b[0m\n\u001b[1;32m--> 753\u001b[1;33m             \u001b[0mobj\u001b[0m \u001b[1;33m=\u001b[0m \u001b[0mFrameParser\u001b[0m\u001b[1;33m(\u001b[0m\u001b[0mjson\u001b[0m\u001b[1;33m,\u001b[0m \u001b[1;33m**\u001b[0m\u001b[0mkwargs\u001b[0m\u001b[1;33m)\u001b[0m\u001b[1;33m.\u001b[0m\u001b[0mparse\u001b[0m\u001b[1;33m(\u001b[0m\u001b[1;33m)\u001b[0m\u001b[1;33m\u001b[0m\u001b[1;33m\u001b[0m\u001b[0m\n\u001b[0m\u001b[0;32m    754\u001b[0m \u001b[1;33m\u001b[0m\u001b[0m\n\u001b[0;32m    755\u001b[0m         \u001b[1;32mif\u001b[0m \u001b[0mtyp\u001b[0m \u001b[1;33m==\u001b[0m \u001b[1;34m\"series\"\u001b[0m \u001b[1;32mor\u001b[0m \u001b[0mobj\u001b[0m \u001b[1;32mis\u001b[0m \u001b[1;32mNone\u001b[0m\u001b[1;33m:\u001b[0m\u001b[1;33m\u001b[0m\u001b[1;33m\u001b[0m\u001b[0m\n",
      "\u001b[1;32m~\\anaconda3\\lib\\site-packages\\pandas\\io\\json\\_json.py\u001b[0m in \u001b[0;36mparse\u001b[1;34m(self)\u001b[0m\n\u001b[0;32m    855\u001b[0m \u001b[1;33m\u001b[0m\u001b[0m\n\u001b[0;32m    856\u001b[0m         \u001b[1;32melse\u001b[0m\u001b[1;33m:\u001b[0m\u001b[1;33m\u001b[0m\u001b[1;33m\u001b[0m\u001b[0m\n\u001b[1;32m--> 857\u001b[1;33m             \u001b[0mself\u001b[0m\u001b[1;33m.\u001b[0m\u001b[0m_parse_no_numpy\u001b[0m\u001b[1;33m(\u001b[0m\u001b[1;33m)\u001b[0m\u001b[1;33m\u001b[0m\u001b[1;33m\u001b[0m\u001b[0m\n\u001b[0m\u001b[0;32m    858\u001b[0m \u001b[1;33m\u001b[0m\u001b[0m\n\u001b[0;32m    859\u001b[0m         \u001b[1;32mif\u001b[0m \u001b[0mself\u001b[0m\u001b[1;33m.\u001b[0m\u001b[0mobj\u001b[0m \u001b[1;32mis\u001b[0m \u001b[1;32mNone\u001b[0m\u001b[1;33m:\u001b[0m\u001b[1;33m\u001b[0m\u001b[1;33m\u001b[0m\u001b[0m\n",
      "\u001b[1;32m~\\anaconda3\\lib\\site-packages\\pandas\\io\\json\\_json.py\u001b[0m in \u001b[0;36m_parse_no_numpy\u001b[1;34m(self)\u001b[0m\n\u001b[0;32m   1098\u001b[0m         \u001b[1;32melif\u001b[0m \u001b[0morient\u001b[0m \u001b[1;33m==\u001b[0m \u001b[1;34m\"index\"\u001b[0m\u001b[1;33m:\u001b[0m\u001b[1;33m\u001b[0m\u001b[1;33m\u001b[0m\u001b[0m\n\u001b[0;32m   1099\u001b[0m             self.obj = DataFrame.from_dict(\n\u001b[1;32m-> 1100\u001b[1;33m                 \u001b[0mloads\u001b[0m\u001b[1;33m(\u001b[0m\u001b[0mjson\u001b[0m\u001b[1;33m,\u001b[0m \u001b[0mprecise_float\u001b[0m\u001b[1;33m=\u001b[0m\u001b[0mself\u001b[0m\u001b[1;33m.\u001b[0m\u001b[0mprecise_float\u001b[0m\u001b[1;33m)\u001b[0m\u001b[1;33m,\u001b[0m\u001b[1;33m\u001b[0m\u001b[1;33m\u001b[0m\u001b[0m\n\u001b[0m\u001b[0;32m   1101\u001b[0m                 \u001b[0mdtype\u001b[0m\u001b[1;33m=\u001b[0m\u001b[1;32mNone\u001b[0m\u001b[1;33m,\u001b[0m\u001b[1;33m\u001b[0m\u001b[1;33m\u001b[0m\u001b[0m\n\u001b[0;32m   1102\u001b[0m                 \u001b[0morient\u001b[0m\u001b[1;33m=\u001b[0m\u001b[1;34m\"index\"\u001b[0m\u001b[1;33m,\u001b[0m\u001b[1;33m\u001b[0m\u001b[1;33m\u001b[0m\u001b[0m\n",
      "\u001b[1;31mValueError\u001b[0m: Expected object or value"
     ]
    }
   ],
   "source": [
    "table = pd.read_json(\"recontiming128-1024.json\", orient=\"index\")\n",
    "table.head()"
   ]
  },
  {
   "cell_type": "code",
   "execution_count": 13,
   "metadata": {},
   "outputs": [
    {
     "name": "stderr",
     "output_type": "stream",
     "text": [
      "C:\\Users\\ander\\anaconda3\\lib\\site-packages\\ipykernel_launcher.py:9: SettingWithCopyWarning: \n",
      "A value is trying to be set on a copy of a slice from a DataFrame\n",
      "\n",
      "See the caveats in the documentation: https://pandas.pydata.org/pandas-docs/stable/user_guide/indexing.html#returning-a-view-versus-a-copy\n",
      "  if __name__ == '__main__':\n",
      "C:\\Users\\ander\\anaconda3\\lib\\site-packages\\ipykernel_launcher.py:15: SettingWithCopyWarning: \n",
      "A value is trying to be set on a copy of a slice from a DataFrame\n",
      "\n",
      "See the caveats in the documentation: https://pandas.pydata.org/pandas-docs/stable/user_guide/indexing.html#returning-a-view-versus-a-copy\n",
      "  from ipykernel import kernelapp as app\n",
      "C:\\Users\\ander\\anaconda3\\lib\\site-packages\\ipykernel_launcher.py:16: SettingWithCopyWarning: \n",
      "A value is trying to be set on a copy of a slice from a DataFrame\n",
      "\n",
      "See the caveats in the documentation: https://pandas.pydata.org/pandas-docs/stable/user_guide/indexing.html#returning-a-view-versus-a-copy\n",
      "  app.launch_new_instance()\n",
      "C:\\Users\\ander\\anaconda3\\lib\\site-packages\\ipykernel_launcher.py:17: SettingWithCopyWarning: \n",
      "A value is trying to be set on a copy of a slice from a DataFrame\n",
      "\n",
      "See the caveats in the documentation: https://pandas.pydata.org/pandas-docs/stable/user_guide/indexing.html#returning-a-view-versus-a-copy\n",
      "C:\\Users\\ander\\anaconda3\\lib\\site-packages\\ipykernel_launcher.py:18: SettingWithCopyWarning: \n",
      "A value is trying to be set on a copy of a slice from a DataFrame\n",
      "\n",
      "See the caveats in the documentation: https://pandas.pydata.org/pandas-docs/stable/user_guide/indexing.html#returning-a-view-versus-a-copy\n"
     ]
    }
   ],
   "source": [
    "table['Total time']=np.nan\n",
    "table['Time/slice']=np.nan\n",
    "table['size']=np.nan\n",
    "table['Total GUPS']=np.nan\n",
    "table['GUPS/slice']=np.nan\n",
    "\n",
    "\n",
    "for ind in table.index: \n",
    "    table['Total time'][ind] = table['timing'][ind]['total'] \n",
    "    datadict = table['data'][ind] \n",
    "    sum=1\n",
    "    for key in datadict :\n",
    "        sum = sum * datadict[key]\n",
    "\n",
    "    table['size'][ind]       = datadict['sizeu']  \n",
    "    table['Time/slice'][ind] = table['Total time'][ind]/datadict['sizeu'] \n",
    "    table['Total GUPS'][ind] = sum/table['Total time'][ind]/1e9\n",
    "    table['GUPS/slice'][ind] = table['Total GUPS'][ind]/datadict['sizez']**2\n",
    "        "
   ]
  },
  {
   "cell_type": "code",
   "execution_count": 14,
   "metadata": {},
   "outputs": [
    {
     "data": {
      "text/html": [
       "<div>\n",
       "<style scoped>\n",
       "    .dataframe tbody tr th:only-of-type {\n",
       "        vertical-align: middle;\n",
       "    }\n",
       "\n",
       "    .dataframe tbody tr th {\n",
       "        vertical-align: top;\n",
       "    }\n",
       "\n",
       "    .dataframe thead th {\n",
       "        text-align: right;\n",
       "    }\n",
       "</style>\n",
       "<table border=\"1\" class=\"dataframe\">\n",
       "  <thead>\n",
       "    <tr style=\"text-align: right;\">\n",
       "      <th></th>\n",
       "      <th>data</th>\n",
       "      <th>timing</th>\n",
       "      <th>Total time</th>\n",
       "      <th>Time/slice</th>\n",
       "      <th>size</th>\n",
       "      <th>Total GUPS</th>\n",
       "      <th>GUPS/slice</th>\n",
       "    </tr>\n",
       "  </thead>\n",
       "  <tbody>\n",
       "    <tr>\n",
       "      <th>2021-02-08 13:50:06</th>\n",
       "      <td>{'projections': 128, 'sizeu': 128, 'sizev': 12...</td>\n",
       "      <td>{'FullLogNorm': 2.5266, 'MorphSpotClean': 85.6...</td>\n",
       "      <td>6089.34</td>\n",
       "      <td>47.572969</td>\n",
       "      <td>128.0</td>\n",
       "      <td>0.722253</td>\n",
       "      <td>0.000044</td>\n",
       "    </tr>\n",
       "    <tr>\n",
       "      <th>2021-02-08 13:50:12</th>\n",
       "      <td>{'projections': 128, 'sizeu': 128, 'sizev': 12...</td>\n",
       "      <td>{'FullLogNorm': 2.7878, 'MorphSpotClean': 103....</td>\n",
       "      <td>5539.84</td>\n",
       "      <td>43.280000</td>\n",
       "      <td>128.0</td>\n",
       "      <td>0.793894</td>\n",
       "      <td>0.000048</td>\n",
       "    </tr>\n",
       "    <tr>\n",
       "      <th>2021-02-08 13:50:18</th>\n",
       "      <td>{'projections': 128, 'sizeu': 128, 'sizev': 12...</td>\n",
       "      <td>{'FullLogNorm': 3.0385, 'MorphSpotClean': 107....</td>\n",
       "      <td>5608.43</td>\n",
       "      <td>43.815859</td>\n",
       "      <td>128.0</td>\n",
       "      <td>0.784185</td>\n",
       "      <td>0.000048</td>\n",
       "    </tr>\n",
       "    <tr>\n",
       "      <th>2021-02-08 13:50:23</th>\n",
       "      <td>{'projections': 128, 'sizeu': 128, 'sizev': 12...</td>\n",
       "      <td>{'FullLogNorm': 2.8213, 'MorphSpotClean': 99.7...</td>\n",
       "      <td>5601.16</td>\n",
       "      <td>43.759062</td>\n",
       "      <td>128.0</td>\n",
       "      <td>0.785203</td>\n",
       "      <td>0.000048</td>\n",
       "    </tr>\n",
       "    <tr>\n",
       "      <th>2021-02-08 13:50:29</th>\n",
       "      <td>{'projections': 128, 'sizeu': 128, 'sizev': 12...</td>\n",
       "      <td>{'FullLogNorm': 2.7232000000000003, 'MorphSpot...</td>\n",
       "      <td>5547.49</td>\n",
       "      <td>43.339766</td>\n",
       "      <td>128.0</td>\n",
       "      <td>0.792799</td>\n",
       "      <td>0.000048</td>\n",
       "    </tr>\n",
       "  </tbody>\n",
       "</table>\n",
       "</div>"
      ],
      "text/plain": [
       "                                                                  data  \\\n",
       "2021-02-08 13:50:06  {'projections': 128, 'sizeu': 128, 'sizev': 12...   \n",
       "2021-02-08 13:50:12  {'projections': 128, 'sizeu': 128, 'sizev': 12...   \n",
       "2021-02-08 13:50:18  {'projections': 128, 'sizeu': 128, 'sizev': 12...   \n",
       "2021-02-08 13:50:23  {'projections': 128, 'sizeu': 128, 'sizev': 12...   \n",
       "2021-02-08 13:50:29  {'projections': 128, 'sizeu': 128, 'sizev': 12...   \n",
       "\n",
       "                                                                timing  \\\n",
       "2021-02-08 13:50:06  {'FullLogNorm': 2.5266, 'MorphSpotClean': 85.6...   \n",
       "2021-02-08 13:50:12  {'FullLogNorm': 2.7878, 'MorphSpotClean': 103....   \n",
       "2021-02-08 13:50:18  {'FullLogNorm': 3.0385, 'MorphSpotClean': 107....   \n",
       "2021-02-08 13:50:23  {'FullLogNorm': 2.8213, 'MorphSpotClean': 99.7...   \n",
       "2021-02-08 13:50:29  {'FullLogNorm': 2.7232000000000003, 'MorphSpot...   \n",
       "\n",
       "                     Total time  Time/slice   size  Total GUPS  GUPS/slice  \n",
       "2021-02-08 13:50:06     6089.34   47.572969  128.0    0.722253    0.000044  \n",
       "2021-02-08 13:50:12     5539.84   43.280000  128.0    0.793894    0.000048  \n",
       "2021-02-08 13:50:18     5608.43   43.815859  128.0    0.784185    0.000048  \n",
       "2021-02-08 13:50:23     5601.16   43.759062  128.0    0.785203    0.000048  \n",
       "2021-02-08 13:50:29     5547.49   43.339766  128.0    0.792799    0.000048  "
      ]
     },
     "execution_count": 14,
     "metadata": {},
     "output_type": "execute_result"
    }
   ],
   "source": [
    "table.head()"
   ]
  },
  {
   "cell_type": "code",
   "execution_count": 15,
   "metadata": {},
   "outputs": [],
   "source": [
    "sizes = []\n",
    "avgTotalTime = []\n",
    "stdTotalTime = []\n",
    "avgSliceTime = []\n",
    "stdSliceTime = []\n",
    "avgGUPS = []\n",
    "\n",
    "scale = 1000\n",
    "for s in table['size'].unique() :\n",
    "    sizes.append(s)\n",
    "    avgTotalTime.append(table[table['size']==s]['Total time'].mean()/scale)\n",
    "    stdTotalTime.append(table[table['size']==s]['Total time'].std()/scale)\n",
    "    avgSliceTime.append(table[table['size']==s]['Time/slice'].mean()/scale)\n",
    "    stdSliceTime.append(table[table['size']==s]['Time/slice'].std()/scale)\n",
    "    avgGUPS.append(table[table['size']==s]['Total GUPS'].mean())\n",
    "\n",
    "data = {'size': sizes, \n",
    "        'Total time': avgTotalTime, \n",
    "        'std Total time': stdTotalTime, \n",
    "        'Time/slice': avgSliceTime, \n",
    "        'std Time/slice': stdSliceTime,\n",
    "       'GUPS': avgGUPS}\n",
    "\n",
    "timings = pd.DataFrame.from_dict(data).sort_values('size')"
   ]
  },
  {
   "cell_type": "code",
   "execution_count": 16,
   "metadata": {},
   "outputs": [
    {
     "data": {
      "text/html": [
       "<div>\n",
       "<style scoped>\n",
       "    .dataframe tbody tr th:only-of-type {\n",
       "        vertical-align: middle;\n",
       "    }\n",
       "\n",
       "    .dataframe tbody tr th {\n",
       "        vertical-align: top;\n",
       "    }\n",
       "\n",
       "    .dataframe thead th {\n",
       "        text-align: right;\n",
       "    }\n",
       "</style>\n",
       "<table border=\"1\" class=\"dataframe\">\n",
       "  <thead>\n",
       "    <tr style=\"text-align: right;\">\n",
       "      <th></th>\n",
       "      <th>size</th>\n",
       "      <th>Total time</th>\n",
       "      <th>std Total time</th>\n",
       "      <th>Time/slice</th>\n",
       "      <th>std Time/slice</th>\n",
       "      <th>GUPS</th>\n",
       "    </tr>\n",
       "  </thead>\n",
       "  <tbody>\n",
       "    <tr>\n",
       "      <th>0</th>\n",
       "      <td>128.0</td>\n",
       "      <td>5.617045</td>\n",
       "      <td>0.167905</td>\n",
       "      <td>0.043883</td>\n",
       "      <td>0.001312</td>\n",
       "      <td>0.783570</td>\n",
       "    </tr>\n",
       "    <tr>\n",
       "      <th>1</th>\n",
       "      <td>256.0</td>\n",
       "      <td>13.886830</td>\n",
       "      <td>0.142442</td>\n",
       "      <td>0.054245</td>\n",
       "      <td>0.000556</td>\n",
       "      <td>20.271085</td>\n",
       "    </tr>\n",
       "    <tr>\n",
       "      <th>2</th>\n",
       "      <td>384.0</td>\n",
       "      <td>27.250870</td>\n",
       "      <td>0.839216</td>\n",
       "      <td>0.070966</td>\n",
       "      <td>0.002185</td>\n",
       "      <td>117.747435</td>\n",
       "    </tr>\n",
       "    <tr>\n",
       "      <th>3</th>\n",
       "      <td>512.0</td>\n",
       "      <td>47.194460</td>\n",
       "      <td>1.073440</td>\n",
       "      <td>0.092177</td>\n",
       "      <td>0.002097</td>\n",
       "      <td>381.874123</td>\n",
       "    </tr>\n",
       "    <tr>\n",
       "      <th>4</th>\n",
       "      <td>768.0</td>\n",
       "      <td>123.481600</td>\n",
       "      <td>2.728090</td>\n",
       "      <td>0.160783</td>\n",
       "      <td>0.003552</td>\n",
       "      <td>1662.440668</td>\n",
       "    </tr>\n",
       "    <tr>\n",
       "      <th>5</th>\n",
       "      <td>1024.0</td>\n",
       "      <td>263.010000</td>\n",
       "      <td>2.098288</td>\n",
       "      <td>0.256846</td>\n",
       "      <td>0.002049</td>\n",
       "      <td>4383.812743</td>\n",
       "    </tr>\n",
       "  </tbody>\n",
       "</table>\n",
       "</div>"
      ],
      "text/plain": [
       "     size  Total time  std Total time  Time/slice  std Time/slice         GUPS\n",
       "0   128.0    5.617045        0.167905    0.043883        0.001312     0.783570\n",
       "1   256.0   13.886830        0.142442    0.054245        0.000556    20.271085\n",
       "2   384.0   27.250870        0.839216    0.070966        0.002185   117.747435\n",
       "3   512.0   47.194460        1.073440    0.092177        0.002097   381.874123\n",
       "4   768.0  123.481600        2.728090    0.160783        0.003552  1662.440668\n",
       "5  1024.0  263.010000        2.098288    0.256846        0.002049  4383.812743"
      ]
     },
     "execution_count": 16,
     "metadata": {},
     "output_type": "execute_result"
    }
   ],
   "source": [
    "timings"
   ]
  },
  {
   "cell_type": "code",
   "execution_count": 17,
   "metadata": {},
   "outputs": [
    {
     "data": {
      "image/png": "[encoded data removed]",
      "text/plain": [
       "<Figure size 360x288 with 1 Axes>"
      ]
     },
     "metadata": {},
     "output_type": "display_data"
    }
   ],
   "source": [
    "plt.figure(figsize=(5,4))\n",
    "plt.plot(timings['size'],timings['Total time'])\n",
    "plt.plot(timings['size'],timings['Total time'],'o')\n",
    "plt.xlabel('Data size')\n",
    "plt.ylabel('time (s)')\n",
    "plt.title('Total reconstruction time');\n",
    "plt.tight_layout()\n",
    "plt.savefig('totaltime.svg')\n",
    "plt.savefig('totaltime.png',dpi=300)"
   ]
  },
  {
   "cell_type": "code",
   "execution_count": 18,
   "metadata": {},
   "outputs": [
    {
     "data": {
      "image/png": "[encoded data removed]",
      "text/plain": [
       "<Figure size 360x288 with 1 Axes>"
      ]
     },
     "metadata": {},
     "output_type": "display_data"
    }
   ],
   "source": [
    "plt.figure(figsize=(5,4))\n",
    "plt.plot(timings['size'],timings['Time/slice'])\n",
    "plt.plot(timings['size'],timings['Time/slice'],'o')\n",
    "plt.xlabel('Data size')\n",
    "plt.ylabel('time (s)')\n",
    "plt.title('Reconstruction time per slice');\n",
    "plt.tight_layout()\n",
    "plt.savefig('timeperslice.svg')\n",
    "plt.savefig('timeperslice.png',dpi=300)"
   ]
  },
  {
   "cell_type": "code",
   "execution_count": 19,
   "metadata": {},
   "outputs": [
    {
     "data": {
      "image/png": "[encoded data removed]",
      "text/plain": [
       "<Figure size 360x288 with 1 Axes>"
      ]
     },
     "metadata": {},
     "output_type": "display_data"
    }
   ],
   "source": [
    "plt.figure(figsize=(5,4))\n",
    "plt.plot(timings['size'],timings['Time/slice'])\n",
    "plt.plot(timings['size'],timings['Time/slice'],'o')\n",
    "plt.xlabel('Data size')\n",
    "plt.ylabel('time (s)')\n",
    "plt.title('Reconstruction time per slice');\n",
    "plt.tight_layout()\n",
    "plt.savefig('timeperslice.svg')\n",
    "plt.savefig('timeperslice.png',dpi=300)"
   ]
  },
  {
   "cell_type": "code",
   "execution_count": 20,
   "metadata": {},
   "outputs": [
    {
     "data": {
      "image/png": "[encoded data removed]",
      "text/plain": [
       "<Figure size 360x288 with 1 Axes>"
      ]
     },
     "metadata": {},
     "output_type": "display_data"
    }
   ],
   "source": [
    "plt.figure(figsize=(5,4))\n",
    "plt.plot(timings['size'],timings['GUPS'])\n",
    "plt.plot(timings['size'],timings['GUPS'],'o')\n",
    "plt.xlabel('Data size')\n",
    "plt.ylabel('GUPS')\n",
    "plt.title('Update rate');\n",
    "plt.tight_layout()\n",
    "plt.savefig('GUPS.svg')\n",
    "plt.savefig('GUPS.png',dpi=300)"
   ]
  },
  {
   "cell_type": "code",
   "execution_count": null,
   "metadata": {},
   "outputs": [],
   "source": []
  }
 ],
 "metadata": {
  "kernelspec": {
   "display_name": "Python 3",
   "language": "python",
   "name": "python3"
  },
  "language_info": {
   "codemirror_mode": {
    "name": "ipython",
    "version": 3
   },
   "file_extension": ".py",
   "mimetype": "text/x-python",
   "name": "python",
   "nbconvert_exporter": "python",
   "pygments_lexer": "ipython3",
   "version": "3.7.6"
  }
 },
 "nbformat": 4,
 "nbformat_minor": 4
}
